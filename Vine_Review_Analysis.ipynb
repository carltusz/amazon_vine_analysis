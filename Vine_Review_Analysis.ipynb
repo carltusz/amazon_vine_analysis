{
  "nbformat": 4,
  "nbformat_minor": 0,
  "metadata": {
    "colab": {
      "name": "Vine_Review_Analysis.ipynb",
      "provenance": [],
      "collapsed_sections": []
    },
    "kernelspec": {
      "name": "python3",
      "display_name": "Python 3"
    },
    "nteract": {
      "version": "0.12.3"
    },
    "language_info": {
      "name": "python"
    }
  },
  "cells": [
    {
      "cell_type": "code",
      "metadata": {
        "id": "V58rxea0HqSa",
        "colab": {
          "base_uri": "https://localhost:8080/"
        },
        "outputId": "a9b62101-4f2e-4fc6-86ae-167b5754294d"
      },
      "source": [
        "import os\n",
        "# Find the latest version of spark 3.0 from http://www.apache.org/dist/spark/ and enter as the spark version\n",
        "# For example:\n",
        "# spark_version = 'spark-3.0.3'\n",
        "spark_version = 'spark-3.0.3'\n",
        "os.environ['SPARK_VERSION']=spark_version\n",
        "\n",
        "# Install Spark and Java\n",
        "!apt-get update\n",
        "!apt-get install openjdk-11-jdk-headless -qq > /dev/null\n",
        "!wget -q http://www.apache.org/dist/spark/$SPARK_VERSION/$SPARK_VERSION-bin-hadoop2.7.tgz\n",
        "!tar xf $SPARK_VERSION-bin-hadoop2.7.tgz\n",
        "!pip install -q findspark\n",
        "\n",
        "# Set Environment Variables\n",
        "import os\n",
        "os.environ[\"JAVA_HOME\"] = \"/usr/lib/jvm/java-11-openjdk-amd64\"\n",
        "os.environ[\"SPARK_HOME\"] = f\"/content/{spark_version}-bin-hadoop2.7\"\n",
        "\n",
        "# Start a SparkSession\n",
        "import findspark\n",
        "findspark.init()"
      ],
      "execution_count": 2,
      "outputs": [
        {
          "output_type": "stream",
          "name": "stdout",
          "text": [
            "\r0% [Working]\r            \rGet:1 http://security.ubuntu.com/ubuntu bionic-security InRelease [88.7 kB]\n",
            "\r0% [Connecting to archive.ubuntu.com (91.189.88.152)] [1 InRelease 14.2 kB/88.7\r0% [Waiting for headers] [Connected to cloud.r-project.org (65.8.181.110)] [Wai\r                                                                               \rIgn:2 https://developer.download.nvidia.com/compute/cuda/repos/ubuntu1804/x86_64  InRelease\n",
            "Hit:3 http://ppa.launchpad.net/c2d4u.team/c2d4u4.0+/ubuntu bionic InRelease\n",
            "Hit:4 http://archive.ubuntu.com/ubuntu bionic InRelease\n",
            "Ign:5 https://developer.download.nvidia.com/compute/machine-learning/repos/ubuntu1804/x86_64  InRelease\n",
            "Get:6 https://cloud.r-project.org/bin/linux/ubuntu bionic-cran40/ InRelease [3,626 B]\n",
            "Hit:7 https://developer.download.nvidia.com/compute/cuda/repos/ubuntu1804/x86_64  Release\n",
            "Hit:8 https://developer.download.nvidia.com/compute/machine-learning/repos/ubuntu1804/x86_64  Release\n",
            "Get:9 http://archive.ubuntu.com/ubuntu bionic-updates InRelease [88.7 kB]\n",
            "Hit:10 http://ppa.launchpad.net/cran/libgit2/ubuntu bionic InRelease\n",
            "Get:11 http://security.ubuntu.com/ubuntu bionic-security/main amd64 Packages [2,628 kB]\n",
            "Hit:12 http://ppa.launchpad.net/deadsnakes/ppa/ubuntu bionic InRelease\n",
            "Get:13 http://archive.ubuntu.com/ubuntu bionic-backports InRelease [74.6 kB]\n",
            "Hit:14 http://ppa.launchpad.net/graphics-drivers/ppa/ubuntu bionic InRelease\n",
            "Get:15 http://security.ubuntu.com/ubuntu bionic-security/universe amd64 Packages [1,478 kB]\n",
            "Get:18 http://archive.ubuntu.com/ubuntu bionic-updates/main amd64 Packages [3,067 kB]\n",
            "Get:19 http://archive.ubuntu.com/ubuntu bionic-updates/universe amd64 Packages [2,256 kB]\n",
            "Fetched 9,685 kB in 4s (2,615 kB/s)\n",
            "Reading package lists... Done\n"
          ]
        }
      ]
    },
    {
      "cell_type": "code",
      "metadata": {
        "id": "_xKwTpATHqSe",
        "colab": {
          "base_uri": "https://localhost:8080/"
        },
        "outputId": "5ab64a10-f498-438c-a341-ff5fc079e004"
      },
      "source": [
        "# Download the Postgres driver that will allow Spark to interact with Postgres.\n",
        "!wget https://jdbc.postgresql.org/download/postgresql-42.2.16.jar"
      ],
      "execution_count": 3,
      "outputs": [
        {
          "output_type": "stream",
          "name": "stdout",
          "text": [
            "--2022-03-14 00:39:38--  https://jdbc.postgresql.org/download/postgresql-42.2.16.jar\n",
            "Resolving jdbc.postgresql.org (jdbc.postgresql.org)... 72.32.157.228, 2001:4800:3e1:1::228\n",
            "Connecting to jdbc.postgresql.org (jdbc.postgresql.org)|72.32.157.228|:443... connected.\n",
            "HTTP request sent, awaiting response... 200 OK\n",
            "Length: 1002883 (979K) [application/java-archive]\n",
            "Saving to: ‘postgresql-42.2.16.jar’\n",
            "\n",
            "postgresql-42.2.16. 100%[===================>] 979.38K  4.58MB/s    in 0.2s    \n",
            "\n",
            "2022-03-14 00:39:38 (4.58 MB/s) - ‘postgresql-42.2.16.jar’ saved [1002883/1002883]\n",
            "\n"
          ]
        }
      ]
    },
    {
      "cell_type": "code",
      "metadata": {
        "id": "MMqDAjVS0KN9"
      },
      "source": [
        "from pyspark.sql import SparkSession\n",
        "spark = SparkSession.builder.appName(\"M16-Amazon-Challenge\").config(\"spark.driver.extraClassPath\",\"/content/postgresql-42.2.16.jar\").getOrCreate()"
      ],
      "execution_count": 4,
      "outputs": []
    },
    {
      "cell_type": "markdown",
      "metadata": {
        "id": "cyBsySGuY-9V"
      },
      "source": [
        "### Load Amazon Data into Spark DataFrame"
      ]
    },
    {
      "cell_type": "code",
      "metadata": {
        "id": "CtCmBhQJY-9Z",
        "colab": {
          "base_uri": "https://localhost:8080/"
        },
        "outputId": "15da4527-c3a2-451f-b3c3-28b1ad88b7f8"
      },
      "source": [
        "from pyspark import SparkFiles\n",
        "url = \"https://s3.amazonaws.com/amazon-reviews-pds/tsv/amazon_reviews_us_Software_v1_00.tsv.gz\"\n",
        "spark.sparkContext.addFile(url)\n",
        "df = spark.read.option(\"encoding\", \"UTF-8\").csv(SparkFiles.get(\"\"), sep=\"\\t\", header=True, inferSchema=True)\n",
        "df.show()"
      ],
      "execution_count": 5,
      "outputs": [
        {
          "output_type": "stream",
          "name": "stdout",
          "text": [
            "+-----------+-----------+--------------+----------+--------------+--------------------+----------------+-----------+-------------+-----------+----+-----------------+--------------------+--------------------+-----------+\n",
            "|marketplace|customer_id|     review_id|product_id|product_parent|       product_title|product_category|star_rating|helpful_votes|total_votes|vine|verified_purchase|     review_headline|         review_body|review_date|\n",
            "+-----------+-----------+--------------+----------+--------------+--------------------+----------------+-----------+-------------+-----------+----+-----------------+--------------------+--------------------+-----------+\n",
            "|         US|   42605767|R3EFW2STIYIY0I|B00MUTIDKI|     248732228|McAfee 2015 Inter...|        Software|          1|            2|          2|   N|                Y|I was very disapp...|I was very disapp...| 2015-08-31|\n",
            "|         US|   51771800|R12NR0R5A9F7FT|B00EPACNUG|     531462352|Hallmark Card Stu...|        Software|          5|            0|          0|   N|                Y|          Five Stars|I had a little st...| 2015-08-31|\n",
            "|         US|   16053526|R1LSH74R9XAP59|B00164AZA4|     473982505| Search and Rescue 4|        Software|          2|            0|          1|   N|                Y|    Have windows 10?|Tried to download...| 2015-08-31|\n",
            "|         US|   15319481|R1QXUNTF76K7L6|B00E6LIEFM|     189774198|      Quickbooks Pro|        Software|          2|            0|          0|   N|                Y|Disc was corrupt,...|Disc was corrupt,...| 2015-08-31|\n",
            "|         US|    1441820|R2F7DR75PS8NKT|B00VWEBG06|     852470365|Windows 7 Profess...|        Software|          5|            0|          0|   N|                Y|          Five Stars|Just what I neede...| 2015-08-31|\n",
            "|         US|   37107850|R2C1DJSCC8UFS6|B00EP7AP7C|     279360628|Family Tree Maker...|        Software|          3|            0|          0|   N|                Y|         Three Stars|Didn't like havin...| 2015-08-31|\n",
            "|         US|     302120|R1AXGS1W4YFXMX|B00OW2PET4|     729971168|World of Farming:...|        Software|          1|            0|          2|   N|                Y|            One Star|it does not work ...| 2015-08-31|\n",
            "|         US|   20193077|R1XU1B93402SYJ|B00N4OLCRO|     776572654|Photoshop Element...|        Software|          1|            1|          1|   N|                Y|Can't load to my ...|I have tried for ...| 2015-08-31|\n",
            "|         US|   13106017|R2U432NB3OPVR0|B005CELN8W|     222071424|Phantom EFX WMS S...|        Software|          5|            0|          0|   N|                Y|          Five Stars|       love the game| 2015-08-31|\n",
            "|         US|   32587108|R3R6FIMIOQ5SP9|B005CELL1G|     168801430|PaperPort Profess...|        Software|          5|            0|          0|   N|                Y|Meets our small b...|Great software. A...| 2015-08-31|\n",
            "|         US|   32020017|R12TX6V09C9QNQ|B00H09BOXQ|     455502995|Windows 7 Profess...|        Software|          5|            0|          0|   N|                Y|          Five Stars|             Awesome| 2015-08-31|\n",
            "|         US|   13376158|R33UCII6YKUMKV|B00MCLGAAO|     652069521| QuickBooks Pro 2015|        Software|          3|            2|          2|   N|                Y|Nothing New in Th...|To start this rev...| 2015-08-31|\n",
            "|         US|   47098110| RZKDAB9TGO053|B00P6U8C5Y|     871602905|Block Financial H...|        Software|          1|            0|          0|   N|                Y|Missing key infor...|Some key provisio...| 2015-08-31|\n",
            "|         US|   24083274|R2EMN2EEDN73ZA|B00MA5TPN6|     299038085|Parallels Desktop...|        Software|          4|            0|          0|   N|                Y|Probably the best...|Probably the best...| 2015-08-31|\n",
            "|         US|   41137196| RU9LHN1NJDVOI|B000EQ868I|     534229510|Cosmi Print Perfe...|        Software|          5|            0|          0|   N|                Y|          Five Stars|I was pleased wit...| 2015-08-31|\n",
            "|         US|   18003829|R19910SO17BQUE|B00MYXTCMI|      42668324|TurboTax Business...|        Software|          5|            0|          0|   N|                Y|... what it is su...|This program does...| 2015-08-31|\n",
            "|         US|   14460749|R32N10BW8MH847|B008PIQXP0|     116724371|I.R.I.S. Readiris...|        Software|          4|            2|          4|   N|                Y|          Four Stars|Again it should h...| 2015-08-31|\n",
            "|         US|   12641855| R2DNM85DH7FGK|B00KAFOXXU|     471261945|Finale PrintMusic...|        Software|          5|            0|          2|   N|                Y|          Five Stars|               great| 2015-08-31|\n",
            "|         US|   13775565|R2G9RFFW051RWY|B00OKSOLE4|     694520847|Microsoft Office ...|        Software|          5|            0|          0|   N|                Y|          Five Stars|        Easy to use.| 2015-08-31|\n",
            "|         US|   31044774|R26CC1STPSUHBS|B01019T6O0|     510976915|Microsoft Windows...|        Software|          1|           27|         39|   N|                N|Do NOT take the \"...|Do NOT take the &...| 2015-08-31|\n",
            "+-----------+-----------+--------------+----------+--------------+--------------------+----------------+-----------+-------------+-----------+----+-----------------+--------------------+--------------------+-----------+\n",
            "only showing top 20 rows\n",
            "\n"
          ]
        }
      ]
    },
    {
      "cell_type": "markdown",
      "metadata": {
        "id": "2yUSe55VY-9t"
      },
      "source": [
        "### Create DataFrames to match tables"
      ]
    },
    {
      "cell_type": "code",
      "metadata": {
        "id": "C8REmY1aY-9u"
      },
      "source": [
        "from pyspark.sql.functions import to_date\n",
        "# Read in the Review dataset as a DataFrame\n"
      ],
      "execution_count": 6,
      "outputs": []
    },
    {
      "cell_type": "code",
      "metadata": {
        "id": "B0TESUDRY-90",
        "colab": {
          "base_uri": "https://localhost:8080/"
        },
        "outputId": "28675d19-d8c9-44df-d6be-1f5cd5c5f1e9"
      },
      "source": [
        "# Create the customers_table DataFrame\n",
        "customers_df = df.groupby(\"customer_id\").count().withColumnRenamed(\"count\", \"customer_count\")\n",
        "customers_df.show()\n"
      ],
      "execution_count": 7,
      "outputs": [
        {
          "output_type": "stream",
          "name": "stdout",
          "text": [
            "+-----------+--------------+\n",
            "|customer_id|customer_count|\n",
            "+-----------+--------------+\n",
            "|   15634680|             1|\n",
            "|   44696507|             1|\n",
            "|   19901367|             1|\n",
            "|   11337682|             1|\n",
            "|   52021773|             1|\n",
            "|   29916198|             1|\n",
            "|   42030944|             1|\n",
            "|   52765209|             1|\n",
            "|   13519509|             2|\n",
            "|   39320350|             5|\n",
            "|   23249582|             1|\n",
            "|   46351928|             3|\n",
            "|   44179620|             1|\n",
            "|     637252|             1|\n",
            "|   34038793|             1|\n",
            "|   51136490|             1|\n",
            "|   49354815|             1|\n",
            "|     149761|             2|\n",
            "|   43333798|             1|\n",
            "|    4657027|             1|\n",
            "+-----------+--------------+\n",
            "only showing top 20 rows\n",
            "\n"
          ]
        }
      ]
    },
    {
      "cell_type": "code",
      "metadata": {
        "id": "4FwXA6UvY-96",
        "colab": {
          "base_uri": "https://localhost:8080/"
        },
        "outputId": "4d349584-bede-424f-eef9-002960e7f5a3"
      },
      "source": [
        "# Create the products_table DataFrame and drop duplicates. \n",
        "products_df = df.select([\"product_id\",\"product_title\"]).drop_duplicates()\n",
        "products_df.show()"
      ],
      "execution_count": 8,
      "outputs": [
        {
          "output_type": "stream",
          "name": "stdout",
          "text": [
            "+----------+--------------------+\n",
            "|product_id|       product_title|\n",
            "+----------+--------------------+\n",
            "|B00TQ71BXI|Moonlight Mysteri...|\n",
            "|B00CHZG1FE|Image Line FL Stu...|\n",
            "|B002JB3BC2|Anti-Virus & Anti...|\n",
            "|B0113MZ1AC|Windows 8 64 Bit ...|\n",
            "|B00003069T|ClueFinders 5th G...|\n",
            "|B008EQUD4U|   Camtasia Studio 8|\n",
            "|B008IVNFDM|Learn Adobe InDes...|\n",
            "|B001Q24UAM|Play! The Ultimat...|\n",
            "|B005HMUUSI|Mariner StoryMill...|\n",
            "|B00005MG8G|My Deluxe MailLis...|\n",
            "|B003L51CZ8|Sony Vegas Movie ...|\n",
            "|B00JFYWY2Y|Learning SQL - Tr...|\n",
            "|B00DDUDTZ2|Anno 2070 Complet...|\n",
            "|B004625PV2|My Golf Game feat...|\n",
            "|B0002TXT7K|Epic Pinball: The...|\n",
            "|B001J8KF4I|Early Learning Fu...|\n",
            "|B000KUWQ98|Extreme Behavior ...|\n",
            "|B00O2QS9GU|Access 2013 Train...|\n",
            "|B00NNU0C3Y|MAGIX Music Maker...|\n",
            "|B00SLV70HQ|Can-Am Commander ...|\n",
            "+----------+--------------------+\n",
            "only showing top 20 rows\n",
            "\n"
          ]
        }
      ]
    },
    {
      "cell_type": "code",
      "metadata": {
        "id": "MkqyCuNQY-9-",
        "colab": {
          "base_uri": "https://localhost:8080/"
        },
        "outputId": "d80103ca-3d17-4d9e-f1c1-a37b12359f44"
      },
      "source": [
        "# Create the review_id_table DataFrame. \n",
        "# Convert the 'review_date' column to a date datatype with to_date(\"review_date\", 'yyyy-MM-dd').alias(\"review_date\")\n",
        "review_id_df = df.select([\"review_id\",\"customer_id\",\"product_id\",\"product_parent\", to_date(\"review_date\", 'yyyy-MM-dd').alias(\"review_date\")])\n",
        "review_id_df.show()"
      ],
      "execution_count": 9,
      "outputs": [
        {
          "output_type": "stream",
          "name": "stdout",
          "text": [
            "+--------------+-----------+----------+--------------+-----------+\n",
            "|     review_id|customer_id|product_id|product_parent|review_date|\n",
            "+--------------+-----------+----------+--------------+-----------+\n",
            "|R3EFW2STIYIY0I|   42605767|B00MUTIDKI|     248732228| 2015-08-31|\n",
            "|R12NR0R5A9F7FT|   51771800|B00EPACNUG|     531462352| 2015-08-31|\n",
            "|R1LSH74R9XAP59|   16053526|B00164AZA4|     473982505| 2015-08-31|\n",
            "|R1QXUNTF76K7L6|   15319481|B00E6LIEFM|     189774198| 2015-08-31|\n",
            "|R2F7DR75PS8NKT|    1441820|B00VWEBG06|     852470365| 2015-08-31|\n",
            "|R2C1DJSCC8UFS6|   37107850|B00EP7AP7C|     279360628| 2015-08-31|\n",
            "|R1AXGS1W4YFXMX|     302120|B00OW2PET4|     729971168| 2015-08-31|\n",
            "|R1XU1B93402SYJ|   20193077|B00N4OLCRO|     776572654| 2015-08-31|\n",
            "|R2U432NB3OPVR0|   13106017|B005CELN8W|     222071424| 2015-08-31|\n",
            "|R3R6FIMIOQ5SP9|   32587108|B005CELL1G|     168801430| 2015-08-31|\n",
            "|R12TX6V09C9QNQ|   32020017|B00H09BOXQ|     455502995| 2015-08-31|\n",
            "|R33UCII6YKUMKV|   13376158|B00MCLGAAO|     652069521| 2015-08-31|\n",
            "| RZKDAB9TGO053|   47098110|B00P6U8C5Y|     871602905| 2015-08-31|\n",
            "|R2EMN2EEDN73ZA|   24083274|B00MA5TPN6|     299038085| 2015-08-31|\n",
            "| RU9LHN1NJDVOI|   41137196|B000EQ868I|     534229510| 2015-08-31|\n",
            "|R19910SO17BQUE|   18003829|B00MYXTCMI|      42668324| 2015-08-31|\n",
            "|R32N10BW8MH847|   14460749|B008PIQXP0|     116724371| 2015-08-31|\n",
            "| R2DNM85DH7FGK|   12641855|B00KAFOXXU|     471261945| 2015-08-31|\n",
            "|R2G9RFFW051RWY|   13775565|B00OKSOLE4|     694520847| 2015-08-31|\n",
            "|R26CC1STPSUHBS|   31044774|B01019T6O0|     510976915| 2015-08-31|\n",
            "+--------------+-----------+----------+--------------+-----------+\n",
            "only showing top 20 rows\n",
            "\n"
          ]
        }
      ]
    },
    {
      "cell_type": "code",
      "metadata": {
        "id": "lzMmkdKmY--D",
        "colab": {
          "base_uri": "https://localhost:8080/"
        },
        "outputId": "950a299f-56ed-434a-9def-93b27cb6e9d6"
      },
      "source": [
        "# Create the vine_table. DataFrame\n",
        "vine_df = df.select([\"review_id\",\"star_rating\",\"helpful_votes\",\"total_votes\",\"vine\",\"verified_purchase\"])\n",
        "vine_df.show()"
      ],
      "execution_count": 10,
      "outputs": [
        {
          "output_type": "stream",
          "name": "stdout",
          "text": [
            "+--------------+-----------+-------------+-----------+----+-----------------+\n",
            "|     review_id|star_rating|helpful_votes|total_votes|vine|verified_purchase|\n",
            "+--------------+-----------+-------------+-----------+----+-----------------+\n",
            "|R3EFW2STIYIY0I|          1|            2|          2|   N|                Y|\n",
            "|R12NR0R5A9F7FT|          5|            0|          0|   N|                Y|\n",
            "|R1LSH74R9XAP59|          2|            0|          1|   N|                Y|\n",
            "|R1QXUNTF76K7L6|          2|            0|          0|   N|                Y|\n",
            "|R2F7DR75PS8NKT|          5|            0|          0|   N|                Y|\n",
            "|R2C1DJSCC8UFS6|          3|            0|          0|   N|                Y|\n",
            "|R1AXGS1W4YFXMX|          1|            0|          2|   N|                Y|\n",
            "|R1XU1B93402SYJ|          1|            1|          1|   N|                Y|\n",
            "|R2U432NB3OPVR0|          5|            0|          0|   N|                Y|\n",
            "|R3R6FIMIOQ5SP9|          5|            0|          0|   N|                Y|\n",
            "|R12TX6V09C9QNQ|          5|            0|          0|   N|                Y|\n",
            "|R33UCII6YKUMKV|          3|            2|          2|   N|                Y|\n",
            "| RZKDAB9TGO053|          1|            0|          0|   N|                Y|\n",
            "|R2EMN2EEDN73ZA|          4|            0|          0|   N|                Y|\n",
            "| RU9LHN1NJDVOI|          5|            0|          0|   N|                Y|\n",
            "|R19910SO17BQUE|          5|            0|          0|   N|                Y|\n",
            "|R32N10BW8MH847|          4|            2|          4|   N|                Y|\n",
            "| R2DNM85DH7FGK|          5|            0|          2|   N|                Y|\n",
            "|R2G9RFFW051RWY|          5|            0|          0|   N|                Y|\n",
            "|R26CC1STPSUHBS|          1|           27|         39|   N|                N|\n",
            "+--------------+-----------+-------------+-----------+----+-----------------+\n",
            "only showing top 20 rows\n",
            "\n"
          ]
        }
      ]
    },
    {
      "cell_type": "code",
      "metadata": {
        "id": "7jiUvs1aY--L"
      },
      "source": [
        "from pyspark.sql.functions import col"
      ],
      "execution_count": 20,
      "outputs": []
    },
    {
      "cell_type": "code",
      "metadata": {
        "id": "T2zgZ-aKY--Q",
        "colab": {
          "base_uri": "https://localhost:8080/"
        },
        "outputId": "6dc964a4-c7dc-4351-db27-6abb30c91825"
      },
      "source": [
        "filtered_df = df.filter(col(\"total_votes\") >=10 )\n",
        "filtered_df.show()"
      ],
      "execution_count": 22,
      "outputs": [
        {
          "output_type": "stream",
          "name": "stdout",
          "text": [
            "+-----------+-----------+--------------+----------+--------------+--------------------+----------------+-----------+-------------+-----------+----+-----------------+--------------------+--------------------+-----------+\n",
            "|marketplace|customer_id|     review_id|product_id|product_parent|       product_title|product_category|star_rating|helpful_votes|total_votes|vine|verified_purchase|     review_headline|         review_body|review_date|\n",
            "+-----------+-----------+--------------+----------+--------------+--------------------+----------------+-----------+-------------+-----------+----+-----------------+--------------------+--------------------+-----------+\n",
            "|         US|   31044774|R26CC1STPSUHBS|B01019T6O0|     510976915|Microsoft Windows...|        Software|          1|           27|         39|   N|                N|Do NOT take the \"...|Do NOT take the &...| 2015-08-31|\n",
            "|         US|   27364030|R2GHZTX2IF2NKS|B00LG242A0|     784681048|Windows 7 Profess...|        Software|          1|            7|         12|   N|                N|About to be ruine...|Aug 31, 2015 Upda...| 2015-08-31|\n",
            "|         US|   26985273|R2BVBPT923ULH7|B01019T6O0|     510976915|Microsoft Windows...|        Software|          3|           10|         14|   N|                N|I like it. I used...|I like it. I used...| 2015-08-31|\n",
            "|         US|   52524807|R1HEMP4OV18V63|B00LX4BZF6|     398243802|Dragon NaturallyS...|        Software|          2|            8|         12|   N|                Y|This product incl...|This product incl...| 2015-08-31|\n",
            "|         US|   10771767|R20AY0BUNHOXI3|B01019T6O0|     510976915|Microsoft Windows...|        Software|          1|            6|         11|   N|                N|Unfortunatelly th...|People missing Wi...| 2015-08-31|\n",
            "|         US|   52959543| R7S94AD1YY8V0|B010MIN9A2|     392586771|ClearClick VHS To...|        Software|          5|           15|         15|   N|                Y|Love it. Works gr...|Love it. Works gr...| 2015-08-30|\n",
            "|         US|   52187944|R1P1Y788NHEC9N|B00V5T0QZY|     957243013|AutoCAD LT 2016 C...|        Software|          3|           15|         15|   N|                Y|Unable to registe...|The product insta...| 2015-08-30|\n",
            "|         US|   51362864| R7K83D59T9KWS|B00ZSI7Y3U|     604043733|Microsoft Windows...|        Software|          1|           16|         26|   N|                N|Works Great As Sp...|I had to uninstal...| 2015-08-30|\n",
            "|         US|   51362864|R2ATG5BPVILHUM|B01019T6O0|     510976915|Microsoft Windows...|        Software|          1|           16|         25|   N|                N|Works Great As Sp...|I had to uninstal...| 2015-08-30|\n",
            "|         US|   44696507|R2Y40GKCN1ON6E|B00CHZG1FE|     635799792|Image Line FL Stu...|        Software|          1|            9|         10|   N|                N|Its pretty much a...|S***. I bought my...| 2015-08-30|\n",
            "|         US|   16773364|R1NBQVJKL050A6|B00NH9YDPE|     284030232|Learn German: Ros...|        Software|          4|           16|         17|   N|                Y|       Great So Far!|I received my Spa...| 2015-08-30|\n",
            "|         US|    2650979|R2W4VWCRG4GUWK|B012LLEIUS|     839030554|Microsoft Windows...|        Software|          3|            4|         11|   N|                Y|Disappointed coul...|My mistake - orde...| 2015-08-29|\n",
            "|         US|    8607300|R1Q71TAM5ZOYTK|B01019T6O0|     510976915|Microsoft Windows...|        Software|          3|           57|         61|   N|                N|u dont get a wind...|My windows 7 home...| 2015-08-29|\n",
            "|         US|   17944734|R1TSQ6NR5412EY|B00Y15KSSO|      94754941|Chess King Gold (...|        Software|          5|           16|         16|   N|                N|Chess King Gold -...|This review is on...| 2015-08-29|\n",
            "|         US|   36244744| RR8HYI7C2XKMU|B00SXZBLXE|     153819259|Mixcraft Pro Stud...|        Software|          5|           25|         25|   N|                Y|More professional...|This is no baby s...| 2015-08-28|\n",
            "|         US|   50337368|R3QA6GP3BCYIA0|B00Y15KNN4|     136344905|Chess King Silver...|        Software|          5|           10|         10|   N|                N|Awesome chess tra...|I am very impress...| 2015-08-28|\n",
            "|         US|   47208091| RZVWUR1CRSN7Y|B01019T6O0|     510976915|Microsoft Windows...|        Software|          1|           11|         17|   N|                N|            One Star|The very worst op...| 2015-08-28|\n",
            "|         US|   16058514| RF75V5QYQGWAG|B01019TDJ8|     218396039|Microsoft Windows...|        Software|          2|            5|         12|   N|                N|They recommended ...|Tried upgrading f...| 2015-08-27|\n",
            "|         US|   43577240|R1VDCSJE4CJJIR|B00VWCKJVA|     688031680|         Lightroom 6|        Software|          1|           88|         97|   N|                Y|      Complete Scam!|I've posted a rev...| 2015-08-27|\n",
            "|         US|   36921752|R2D7MJ0DPHLGMI|B00XWTW7MU|     325952500|WriteItNow 5 [PC ...|        Software|          5|           14|         15|   N|                Y|WriteItNow organi...|This is a very us...| 2015-08-27|\n",
            "+-----------+-----------+--------------+----------+--------------+--------------------+----------------+-----------+-------------+-----------+----+-----------------+--------------------+--------------------+-----------+\n",
            "only showing top 20 rows\n",
            "\n"
          ]
        }
      ]
    },
    {
      "cell_type": "code",
      "metadata": {
        "id": "1m3yzn-LY--U",
        "colab": {
          "base_uri": "https://localhost:8080/"
        },
        "outputId": "ada5da7c-7b95-4515-9bc1-6d184f0f34a8"
      },
      "source": [
        "vote_ratio_df = filtered_df.filter(col(\"helpful_votes\")/col(\"total_votes\")>=0.5)\n",
        "vote_ratio_df.show()"
      ],
      "execution_count": 24,
      "outputs": [
        {
          "output_type": "stream",
          "name": "stdout",
          "text": [
            "+-----------+-----------+--------------+----------+--------------+--------------------+----------------+-----------+-------------+-----------+----+-----------------+--------------------+--------------------+-----------+\n",
            "|marketplace|customer_id|     review_id|product_id|product_parent|       product_title|product_category|star_rating|helpful_votes|total_votes|vine|verified_purchase|     review_headline|         review_body|review_date|\n",
            "+-----------+-----------+--------------+----------+--------------+--------------------+----------------+-----------+-------------+-----------+----+-----------------+--------------------+--------------------+-----------+\n",
            "|         US|   31044774|R26CC1STPSUHBS|B01019T6O0|     510976915|Microsoft Windows...|        Software|          1|           27|         39|   N|                N|Do NOT take the \"...|Do NOT take the &...| 2015-08-31|\n",
            "|         US|   27364030|R2GHZTX2IF2NKS|B00LG242A0|     784681048|Windows 7 Profess...|        Software|          1|            7|         12|   N|                N|About to be ruine...|Aug 31, 2015 Upda...| 2015-08-31|\n",
            "|         US|   26985273|R2BVBPT923ULH7|B01019T6O0|     510976915|Microsoft Windows...|        Software|          3|           10|         14|   N|                N|I like it. I used...|I like it. I used...| 2015-08-31|\n",
            "|         US|   52524807|R1HEMP4OV18V63|B00LX4BZF6|     398243802|Dragon NaturallyS...|        Software|          2|            8|         12|   N|                Y|This product incl...|This product incl...| 2015-08-31|\n",
            "|         US|   10771767|R20AY0BUNHOXI3|B01019T6O0|     510976915|Microsoft Windows...|        Software|          1|            6|         11|   N|                N|Unfortunatelly th...|People missing Wi...| 2015-08-31|\n",
            "|         US|   52959543| R7S94AD1YY8V0|B010MIN9A2|     392586771|ClearClick VHS To...|        Software|          5|           15|         15|   N|                Y|Love it. Works gr...|Love it. Works gr...| 2015-08-30|\n",
            "|         US|   52187944|R1P1Y788NHEC9N|B00V5T0QZY|     957243013|AutoCAD LT 2016 C...|        Software|          3|           15|         15|   N|                Y|Unable to registe...|The product insta...| 2015-08-30|\n",
            "|         US|   51362864| R7K83D59T9KWS|B00ZSI7Y3U|     604043733|Microsoft Windows...|        Software|          1|           16|         26|   N|                N|Works Great As Sp...|I had to uninstal...| 2015-08-30|\n",
            "|         US|   51362864|R2ATG5BPVILHUM|B01019T6O0|     510976915|Microsoft Windows...|        Software|          1|           16|         25|   N|                N|Works Great As Sp...|I had to uninstal...| 2015-08-30|\n",
            "|         US|   44696507|R2Y40GKCN1ON6E|B00CHZG1FE|     635799792|Image Line FL Stu...|        Software|          1|            9|         10|   N|                N|Its pretty much a...|S***. I bought my...| 2015-08-30|\n",
            "|         US|   16773364|R1NBQVJKL050A6|B00NH9YDPE|     284030232|Learn German: Ros...|        Software|          4|           16|         17|   N|                Y|       Great So Far!|I received my Spa...| 2015-08-30|\n",
            "|         US|    8607300|R1Q71TAM5ZOYTK|B01019T6O0|     510976915|Microsoft Windows...|        Software|          3|           57|         61|   N|                N|u dont get a wind...|My windows 7 home...| 2015-08-29|\n",
            "|         US|   17944734|R1TSQ6NR5412EY|B00Y15KSSO|      94754941|Chess King Gold (...|        Software|          5|           16|         16|   N|                N|Chess King Gold -...|This review is on...| 2015-08-29|\n",
            "|         US|   36244744| RR8HYI7C2XKMU|B00SXZBLXE|     153819259|Mixcraft Pro Stud...|        Software|          5|           25|         25|   N|                Y|More professional...|This is no baby s...| 2015-08-28|\n",
            "|         US|   50337368|R3QA6GP3BCYIA0|B00Y15KNN4|     136344905|Chess King Silver...|        Software|          5|           10|         10|   N|                N|Awesome chess tra...|I am very impress...| 2015-08-28|\n",
            "|         US|   47208091| RZVWUR1CRSN7Y|B01019T6O0|     510976915|Microsoft Windows...|        Software|          1|           11|         17|   N|                N|            One Star|The very worst op...| 2015-08-28|\n",
            "|         US|   43577240|R1VDCSJE4CJJIR|B00VWCKJVA|     688031680|         Lightroom 6|        Software|          1|           88|         97|   N|                Y|      Complete Scam!|I've posted a rev...| 2015-08-27|\n",
            "|         US|   36921752|R2D7MJ0DPHLGMI|B00XWTW7MU|     325952500|WriteItNow 5 [PC ...|        Software|          5|           14|         15|   N|                Y|WriteItNow organi...|This is a very us...| 2015-08-27|\n",
            "|         US|   16517571|R2RSPGHTCHCNQ9|B011XO54NY|     140692227|Kaspersky Interne...|        Software|          5|           10|         10|   N|                N|Best Security App...|This is the best ...| 2015-08-27|\n",
            "|         US|   14861159|R1RK2D3DCQ6POH|B00W02G83E|     737376020|Recovery Disc ON ...|        Software|          4|           10|         10|   N|                Y|USB Drive with Wi...|I have used this ...| 2015-08-26|\n",
            "+-----------+-----------+--------------+----------+--------------+--------------------+----------------+-----------+-------------+-----------+----+-----------------+--------------------+--------------------+-----------+\n",
            "only showing top 20 rows\n",
            "\n"
          ]
        }
      ]
    },
    {
      "cell_type": "code",
      "metadata": {
        "id": "KbXri15fY--Z",
        "colab": {
          "base_uri": "https://localhost:8080/"
        },
        "outputId": "5e42636e-24b5-4302-ae98-327e58f656ad"
      },
      "source": [
        "paid_review_df = vote_ratio_df.filter(col(\"vine\") == \"Y\")\n",
        "paid_review_df.show()"
      ],
      "execution_count": 29,
      "outputs": [
        {
          "output_type": "stream",
          "name": "stdout",
          "text": [
            "+-----------+-----------+--------------+----------+--------------+--------------------+----------------+-----------+-------------+-----------+----+-----------------+--------------------+--------------------+-----------+\n",
            "|marketplace|customer_id|     review_id|product_id|product_parent|       product_title|product_category|star_rating|helpful_votes|total_votes|vine|verified_purchase|     review_headline|         review_body|review_date|\n",
            "+-----------+-----------+--------------+----------+--------------+--------------------+----------------+-----------+-------------+-----------+----+-----------------+--------------------+--------------------+-----------+\n",
            "|         US|   12051324|R28EIR3Z6RRUNN|B00UV3VCLC|     617825071|Cyberlink PowerDV...|        Software|          2|           50|         60|   Y|                N|Frustrating, but ...|My computer has a...| 2015-06-11|\n",
            "|         US|   50867647|R2YO2RESXZEWOF|B00T0I6J9E|     636727185|        Corel Parent|        Software|          4|           24|         25|   Y|                N|Makes many video ...|It took me awhile...| 2015-04-22|\n",
            "|         US|   51401685|R1ZSFUVXN5W8V1|B00T0I6J4O|     934281626|        Corel Parent|        Software|          4|            9|         10|   Y|                N|Easy, Powerful an...|I've been in the ...| 2015-04-17|\n",
            "|         US|   51351143| R9J1A7VSAENSN|B00T0I6J9E|     636727185|        Corel Parent|        Software|          3|           10|         12|   Y|                N|Not bad but the i...|No, this wasn't a...| 2015-04-12|\n",
            "|         US|   53043025|R24ZAU9AGB8GCT|B00MILM2FA|     442920015|Quicken WillMaker...|        Software|          5|           14|         14|   Y|                N|Great resource fo...|Quicken WillMaker...| 2015-03-09|\n",
            "|         US|   52783660| R8GEE2EW3D6S9|B00OMQLNJK|     844039629|Corel Painter Ess...|        Software|          3|           49|         54|   Y|                N|     Has Pros & Cons|Painter Essential...| 2015-03-02|\n",
            "|         US|   51848386|R20FHQMQG0C2WI|B00MILM2FA|     442920015|Quicken WillMaker...|        Software|          5|           11|         11|   Y|                N|Easy-to-use and i...|My husband and I ...| 2015-02-25|\n",
            "|         US|   40032250| RC9PJ6BHUL2ZQ|B00MILM2FA|     442920015|Quicken WillMaker...|        Software|          5|           12|         12|   Y|                N|Now updated to fi...|The earlier revie...| 2015-02-22|\n",
            "|         US|   40065598|R33W9V1MX6WKPS|B00OMQLNJK|     844039629|Corel Painter Ess...|        Software|          4|           47|         53|   Y|                N|90% cheese 10% aw...|First off, this p...| 2015-02-21|\n",
            "|         US|   52802468|R24E3W2ZRIFG8C|B00OMQLNJK|     844039629|Corel Painter Ess...|        Software|          5|           91|         93|   Y|                N|A seriously funct...|I've wanted to gi...| 2015-02-13|\n",
            "|         US|   20789642| RCTRDW07M3XWE|B00MYXTCGY|      39020414|TurboTax Deluxe F...|        Software|          1|            9|         10|   Y|                N|      Total Flop....|I finally got all...| 2015-02-02|\n",
            "|         US|   52148563|R30LRWO2KQVEBC|B00MYXTCIM|     682709709|TurboTax Home & B...|        Software|          2|           15|         16|   Y|                N|Overpriced compar...|As many of the re...| 2015-01-22|\n",
            "|         US|   16990140|R2GRHPN0OKJMXP|B00MYXTCGY|      39020414|TurboTax Deluxe F...|        Software|          1|           11|         11|   Y|                N|Is Intuit really ...|I first experienc...| 2015-01-22|\n",
            "|         US|   52304188|R2OR3KIFFG4YWT|B00MYXTCNC|     917377282|TurboTax Premier ...|        Software|          4|           75|         81|   Y|                Y|Easy install - ea...|I received the 20...| 2015-01-13|\n",
            "|         US|   52428106|R1K4GGGTLUJGJU|B00MYXTCNC|     917377282|TurboTax Premier ...|        Software|          4|            7|         11|   Y|                N|I've used TurboTa...|Quite a few years...| 2015-01-09|\n",
            "|         US|   52909801|R38N6VNIG2KC2D|B00ND0E7BW|     791042590|VIDBOX VHS to DVD...|        Software|          3|           10|         12|   Y|                N|Keep the manual h...|This is a nice, f...| 2015-01-09|\n",
            "|         US|   52681575| R3UDUFQZRQZPS|B00MYXTCNC|     917377282|TurboTax Premier ...|        Software|          4|            6|         12|   Y|                N|Makes It All So E...|Years ago and for...| 2015-01-07|\n",
            "|         US|   37103897| R9GEX0DN5G4GC|B00MYXTCNC|     917377282|TurboTax Premier ...|        Software|          3|            8|         11|   Y|                N|Works fine, but m...|I've used Turbo T...| 2015-01-06|\n",
            "|         US|   52768813|R1CGZSDQ2SWY7G|B00MYXUBVE|     367870160|TurboTax Basic Fe...|        Software|          1|           14|         15|   Y|                N|           Unethical|Intuit is now vyi...| 2015-01-06|\n",
            "|         US|   52709697|R3O4S04PBBFZUG|B00MYXUBVE|     367870160|TurboTax Basic Fe...|        Software|          1|            9|         10|   Y|                N|Terrible program,...|This is a truly d...| 2014-12-30|\n",
            "+-----------+-----------+--------------+----------+--------------+--------------------+----------------+-----------+-------------+-----------+----+-----------------+--------------------+--------------------+-----------+\n",
            "only showing top 20 rows\n",
            "\n"
          ]
        }
      ]
    },
    {
      "cell_type": "code",
      "metadata": {
        "id": "XdQknSHLY--e",
        "colab": {
          "base_uri": "https://localhost:8080/"
        },
        "outputId": "d937a98e-065c-48bb-e435-829c53b95d5f"
      },
      "source": [
        "unpaid_review_df = vote_ratio_df.filter(col(\"vine\") == \"N\")\n",
        "unpaid_review_df.show()"
      ],
      "execution_count": 28,
      "outputs": [
        {
          "output_type": "stream",
          "name": "stdout",
          "text": [
            "+-----------+-----------+--------------+----------+--------------+--------------------+----------------+-----------+-------------+-----------+----+-----------------+--------------------+--------------------+-----------+\n",
            "|marketplace|customer_id|     review_id|product_id|product_parent|       product_title|product_category|star_rating|helpful_votes|total_votes|vine|verified_purchase|     review_headline|         review_body|review_date|\n",
            "+-----------+-----------+--------------+----------+--------------+--------------------+----------------+-----------+-------------+-----------+----+-----------------+--------------------+--------------------+-----------+\n",
            "|         US|   31044774|R26CC1STPSUHBS|B01019T6O0|     510976915|Microsoft Windows...|        Software|          1|           27|         39|   N|                N|Do NOT take the \"...|Do NOT take the &...| 2015-08-31|\n",
            "|         US|   27364030|R2GHZTX2IF2NKS|B00LG242A0|     784681048|Windows 7 Profess...|        Software|          1|            7|         12|   N|                N|About to be ruine...|Aug 31, 2015 Upda...| 2015-08-31|\n",
            "|         US|   26985273|R2BVBPT923ULH7|B01019T6O0|     510976915|Microsoft Windows...|        Software|          3|           10|         14|   N|                N|I like it. I used...|I like it. I used...| 2015-08-31|\n",
            "|         US|   52524807|R1HEMP4OV18V63|B00LX4BZF6|     398243802|Dragon NaturallyS...|        Software|          2|            8|         12|   N|                Y|This product incl...|This product incl...| 2015-08-31|\n",
            "|         US|   10771767|R20AY0BUNHOXI3|B01019T6O0|     510976915|Microsoft Windows...|        Software|          1|            6|         11|   N|                N|Unfortunatelly th...|People missing Wi...| 2015-08-31|\n",
            "|         US|   52959543| R7S94AD1YY8V0|B010MIN9A2|     392586771|ClearClick VHS To...|        Software|          5|           15|         15|   N|                Y|Love it. Works gr...|Love it. Works gr...| 2015-08-30|\n",
            "|         US|   52187944|R1P1Y788NHEC9N|B00V5T0QZY|     957243013|AutoCAD LT 2016 C...|        Software|          3|           15|         15|   N|                Y|Unable to registe...|The product insta...| 2015-08-30|\n",
            "|         US|   51362864| R7K83D59T9KWS|B00ZSI7Y3U|     604043733|Microsoft Windows...|        Software|          1|           16|         26|   N|                N|Works Great As Sp...|I had to uninstal...| 2015-08-30|\n",
            "|         US|   51362864|R2ATG5BPVILHUM|B01019T6O0|     510976915|Microsoft Windows...|        Software|          1|           16|         25|   N|                N|Works Great As Sp...|I had to uninstal...| 2015-08-30|\n",
            "|         US|   44696507|R2Y40GKCN1ON6E|B00CHZG1FE|     635799792|Image Line FL Stu...|        Software|          1|            9|         10|   N|                N|Its pretty much a...|S***. I bought my...| 2015-08-30|\n",
            "|         US|   16773364|R1NBQVJKL050A6|B00NH9YDPE|     284030232|Learn German: Ros...|        Software|          4|           16|         17|   N|                Y|       Great So Far!|I received my Spa...| 2015-08-30|\n",
            "|         US|    8607300|R1Q71TAM5ZOYTK|B01019T6O0|     510976915|Microsoft Windows...|        Software|          3|           57|         61|   N|                N|u dont get a wind...|My windows 7 home...| 2015-08-29|\n",
            "|         US|   17944734|R1TSQ6NR5412EY|B00Y15KSSO|      94754941|Chess King Gold (...|        Software|          5|           16|         16|   N|                N|Chess King Gold -...|This review is on...| 2015-08-29|\n",
            "|         US|   36244744| RR8HYI7C2XKMU|B00SXZBLXE|     153819259|Mixcraft Pro Stud...|        Software|          5|           25|         25|   N|                Y|More professional...|This is no baby s...| 2015-08-28|\n",
            "|         US|   50337368|R3QA6GP3BCYIA0|B00Y15KNN4|     136344905|Chess King Silver...|        Software|          5|           10|         10|   N|                N|Awesome chess tra...|I am very impress...| 2015-08-28|\n",
            "|         US|   47208091| RZVWUR1CRSN7Y|B01019T6O0|     510976915|Microsoft Windows...|        Software|          1|           11|         17|   N|                N|            One Star|The very worst op...| 2015-08-28|\n",
            "|         US|   43577240|R1VDCSJE4CJJIR|B00VWCKJVA|     688031680|         Lightroom 6|        Software|          1|           88|         97|   N|                Y|      Complete Scam!|I've posted a rev...| 2015-08-27|\n",
            "|         US|   36921752|R2D7MJ0DPHLGMI|B00XWTW7MU|     325952500|WriteItNow 5 [PC ...|        Software|          5|           14|         15|   N|                Y|WriteItNow organi...|This is a very us...| 2015-08-27|\n",
            "|         US|   16517571|R2RSPGHTCHCNQ9|B011XO54NY|     140692227|Kaspersky Interne...|        Software|          5|           10|         10|   N|                N|Best Security App...|This is the best ...| 2015-08-27|\n",
            "|         US|   14861159|R1RK2D3DCQ6POH|B00W02G83E|     737376020|Recovery Disc ON ...|        Software|          4|           10|         10|   N|                Y|USB Drive with Wi...|I have used this ...| 2015-08-26|\n",
            "+-----------+-----------+--------------+----------+--------------+--------------------+----------------+-----------+-------------+-----------+----+-----------------+--------------------+--------------------+-----------+\n",
            "only showing top 20 rows\n",
            "\n"
          ]
        }
      ]
    },
    {
      "cell_type": "code",
      "metadata": {
        "id": "Exuo6ebUsCqW",
        "colab": {
          "base_uri": "https://localhost:8080/"
        },
        "outputId": "49342143-40e6-4c41-ce3a-7b565a00f103"
      },
      "source": [
        "# PAID\n",
        "# total reviews:\n",
        "total_paid_reviews = paid_review_df.count()\n",
        "print(total_paid_reviews)\n",
        "\n"
      ],
      "execution_count": 38,
      "outputs": [
        {
          "output_type": "stream",
          "name": "stdout",
          "text": [
            "531\n"
          ]
        }
      ]
    },
    {
      "cell_type": "code",
      "source": [
        "# 5 star reviews:\n",
        "paid_five_star_reviews = paid_review_df.filter(col(\"star_rating\")==5).count()\n",
        "print(paid_five_star_reviews)\n"
      ],
      "metadata": {
        "colab": {
          "base_uri": "https://localhost:8080/"
        },
        "id": "q4a_4tyb6etb",
        "outputId": "8ded3b4a-de29-4665-eceb-1ed7cfe6e975"
      },
      "execution_count": 39,
      "outputs": [
        {
          "output_type": "stream",
          "name": "stdout",
          "text": [
            "188\n"
          ]
        }
      ]
    },
    {
      "cell_type": "code",
      "source": [
        "# % 5 star reviews\n",
        "paid_ratio = paid_five_star_reviews/total_paid_reviews\n",
        "print(paid_ratio)\n"
      ],
      "metadata": {
        "colab": {
          "base_uri": "https://localhost:8080/"
        },
        "id": "o3hDLlOd9btf",
        "outputId": "c8554863-b26c-4d62-bed3-79b2bc7c742e"
      },
      "execution_count": 40,
      "outputs": [
        {
          "output_type": "stream",
          "name": "stdout",
          "text": [
            "0.3540489642184557\n"
          ]
        }
      ]
    },
    {
      "cell_type": "code",
      "source": [
        "# UNPAID\n",
        "# total reviews:\n",
        "total_unpaid_reviews = unpaid_review_df.count()\n",
        "print(total_unpaid_reviews)\n",
        "\n"
      ],
      "metadata": {
        "colab": {
          "base_uri": "https://localhost:8080/"
        },
        "id": "A7ahCnlr9dHF",
        "outputId": "bf102078-50f3-4bdf-a6ca-6bcc8b52435f"
      },
      "execution_count": 41,
      "outputs": [
        {
          "output_type": "stream",
          "name": "stdout",
          "text": [
            "40155\n"
          ]
        }
      ]
    },
    {
      "cell_type": "code",
      "source": [
        "# 5 star reviews:\n",
        "unpaid_five_star_reviews = unpaid_review_df.filter(col(\"star_rating\")==5).count()\n",
        "print(unpaid_five_star_reviews)\n"
      ],
      "metadata": {
        "colab": {
          "base_uri": "https://localhost:8080/"
        },
        "id": "2JS_ahhB9ev9",
        "outputId": "7864a4b5-64ac-443b-ae83-5196ab68c705"
      },
      "execution_count": 42,
      "outputs": [
        {
          "output_type": "stream",
          "name": "stdout",
          "text": [
            "11836\n"
          ]
        }
      ]
    },
    {
      "cell_type": "code",
      "source": [
        "# % 5 star reviews\n",
        "unpaid_ratio = unpaid_five_star_reviews/total_unpaid_reviews\n",
        "print(unpaid_ratio)"
      ],
      "metadata": {
        "id": "rwPtdrEc9gEd"
      },
      "execution_count": null,
      "outputs": []
    }
  ]
}